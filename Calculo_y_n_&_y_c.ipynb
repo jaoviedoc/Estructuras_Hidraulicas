{
  "nbformat": 4,
  "nbformat_minor": 0,
  "metadata": {
    "colab": {
      "provenance": [],
      "authorship_tag": "ABX9TyM3eyMbjoLyRRGA9DxJeUz7",
      "include_colab_link": true
    },
    "kernelspec": {
      "name": "python3",
      "display_name": "Python 3"
    },
    "language_info": {
      "name": "python"
    }
  },
  "cells": [
    {
      "cell_type": "markdown",
      "metadata": {
        "id": "view-in-github",
        "colab_type": "text"
      },
      "source": [
        "<a href=\"https://colab.research.google.com/github/jaoviedoc/Estructuras_Hidraulicas/blob/main/Calculo_y_n_%26_y_c.ipynb\" target=\"_parent\"><img src=\"https://colab.research.google.com/assets/colab-badge.svg\" alt=\"Open In Colab\"/></a>"
      ]
    },
    {
      "cell_type": "code",
      "source": [
        "import numpy as np\n",
        "from scipy.optimize import root_scalar"
      ],
      "metadata": {
        "id": "0NoLDrKw86gz"
      },
      "execution_count": 164,
      "outputs": []
    },
    {
      "cell_type": "code",
      "source": [
        "#@title Datos iniciales  { run: \"auto\", display-mode: \"both\" }\n",
        "\n",
        "Q = 10 #@param {type:\"number\"}  # m^3 . s^-1    #Caudal del canal\n",
        "b = 4 #@param {type:\"number\"}   # m             #Ancho en la base\n",
        "m1 = 3 #@param {type:\"number\"}                   #Taludes verticales\n",
        "m2 = 0 #@param {type:\"number\"}                   #Taludes verticales\n",
        "S0 = 0.0003 #@param {type:\"number\"}\n",
        "n = 0.013   #@param {type:\"number\"}\n",
        "\n",
        "g = 9.81 # m . s^-2"
      ],
      "metadata": {
        "id": "l6iJyYfJ8_Tt"
      },
      "execution_count": 165,
      "outputs": []
    },
    {
      "cell_type": "code",
      "source": [
        "def f(y):\n",
        "    A = (m1 * y**2)/2 + b * y + (m2 * y**2)/2\n",
        "    T = m1 * y + b + m2 * y\n",
        "    Pm = y * np.sqrt(1 + m1**2) + b + y * np.sqrt(1 + m2**2)\n",
        "\n",
        "    Rh = A / Pm\n",
        "    D = A / T\n",
        "    V = Q / A\n",
        "\n",
        "    E = y + (V**2 / (2*g))\n",
        "    F = V / np.sqrt(g * D)\n",
        "\n",
        "    FactorSeccionDe = A * Rh ** (2/3)\n",
        "\n",
        "    if num == 1:    return FactorSeccionDe - FactorSeccionIz\n",
        "    elif num == 2:  return F - 1"
      ],
      "metadata": {
        "id": "hQ7z5EKsFHON"
      },
      "execution_count": 166,
      "outputs": []
    },
    {
      "cell_type": "code",
      "source": [
        "#@title  { run: \"auto\" }\n",
        "y_a_calcular = \"y_n\" #@param [\"y_n\", \"y_c\"]\n",
        "if y_a_calcular == \"y_n\": num = 1\n",
        "elif y_a_calcular == \"y_c\": num = 2\n",
        "\n",
        "FactorSeccionIz = (Q*n)/np.sqrt(S0)\n",
        "\n",
        "sol = root_scalar(f, bracket=[0.1, 10])\n",
        "y = sol.root\n",
        "\n",
        "A = (m1 * y**2)/2 + b * y + (m2 * y**2)/2\n",
        "T = m1 * y + b + m2 * y\n",
        "Pm = y * np.sqrt(1 + m1**2) + b + y * np.sqrt(1 + m2**2)\n",
        "\n",
        "Rh = A / Pm\n",
        "D = A / T\n",
        "V = Q / A\n",
        "\n",
        "E = y + (V**2 / (2*g))\n",
        "F = V / np.sqrt(g * D)\n",
        "\n",
        "if   round(F, 3) < 1: Tipo_Flujo = 'Subcritico'\n",
        "elif round(F, 3) > 1: Tipo_Flujo = 'Supercritico'\n",
        "else:                 Tipo_Flujo = 'Critico'\n",
        "\n",
        "print(f' yn = {y:.3f} m')\n",
        "print()\n",
        "print(f' A = {A:.3f} m²')\n",
        "print(f' T = {T:.3f} m')\n",
        "print(f' Pm = {Pm:.3f} m')\n",
        "print()\n",
        "print(f' Rh = {Rh:.3f} m')\n",
        "print(f' D = {D:.3f} m')\n",
        "print(f' V = {V:.3f} m/s')\n",
        "print()\n",
        "print(f' E = {E:.3f} m')\n",
        "print(f' F = {F:.3f}, el tipo de flujo es', Tipo_Flujo)"
      ],
      "metadata": {
        "colab": {
          "base_uri": "https://localhost:8080/"
        },
        "cellView": "form",
        "id": "cPavbOolIv9K",
        "outputId": "a6dd7c46-1af2-425e-937f-c351bf2c6c9d"
      },
      "execution_count": 171,
      "outputs": [
        {
          "output_type": "stream",
          "name": "stdout",
          "text": [
            " yn = 1.373 m\n",
            "\n",
            " A = 8.322 m²\n",
            " T = 8.120 m\n",
            " Pm = 9.716 m\n",
            "\n",
            " Rh = 0.857 m\n",
            " D = 1.025 m\n",
            " V = 1.202 m/s\n",
            "\n",
            " E = 1.447 m\n",
            " F = 0.379, el tipo de flujo es Subcritico\n"
          ]
        }
      ]
    }
  ]
}