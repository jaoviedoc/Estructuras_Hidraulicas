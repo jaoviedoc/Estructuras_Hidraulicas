{
  "nbformat": 4,
  "nbformat_minor": 0,
  "metadata": {
    "colab": {
      "provenance": [],
      "authorship_tag": "ABX9TyM5cwecbkHeIPOdTl8ZZBm1",
      "include_colab_link": true
    },
    "kernelspec": {
      "name": "python3",
      "display_name": "Python 3"
    },
    "language_info": {
      "name": "python"
    }
  },
  "cells": [
    {
      "cell_type": "markdown",
      "metadata": {
        "id": "view-in-github",
        "colab_type": "text"
      },
      "source": [
        "<a href=\"https://colab.research.google.com/github/jaoviedoc/Estructuras_Hidraulicas/blob/main/Cambios_Seccion.ipynb\" target=\"_parent\"><img src=\"https://colab.research.google.com/assets/colab-badge.svg\" alt=\"Open In Colab\"/></a>"
      ]
    },
    {
      "cell_type": "markdown",
      "source": [
        "# Transiciones\n",
        "  Cambios en la Seccion"
      ],
      "metadata": {
        "id": "qrPrdBsp-QEA"
      }
    },
    {
      "cell_type": "code",
      "execution_count": null,
      "metadata": {
        "id": "lIB9iH3y3t_i"
      },
      "outputs": [],
      "source": [
        "import matplotlib.pyplot as plt\n",
        "import numpy as np"
      ]
    },
    {
      "cell_type": "code",
      "source": [
        "#@title Datos iniciales { run: \"auto\" }\n",
        "Q = 2.53 #@param {type:\"number\"}   # m^3 . s^-1    #Caudal del canal\n",
        "b1 = 3.05 #@param {type:\"number\"}   # m             #Ancho en la base\n",
        "b2 = 2.85 #@param {type:\"number\"}   # m             #Ancho en la base\n",
        "E1 = 1.54 #@param {type:\"number\"}   # m             #Profundidad canal\n",
        "g = 9.81 # m . s^-2\n",
        "\n"
      ],
      "metadata": {
        "id": "H9VXX2S-378Q",
        "cellView": "form"
      },
      "execution_count": null,
      "outputs": []
    },
    {
      "cell_type": "markdown",
      "source": [
        "1. Profundidad de flujo en 1"
      ],
      "metadata": {
        "id": "Z0oUoiWk4cNw"
      }
    },
    {
      "cell_type": "code",
      "source": [
        "#@title\n",
        "\n",
        "#Raices del polinomio\n",
        "#E1 = y1 + ((Q**2)/((b1*y1)**2 *2*g))\n",
        "#E1 * y1 ** 2 = y**3 + ((Q**2)/(b1**2 *2*g))\n",
        "p = [1, -E1, 0, (Q**2) / (b1**2 * 2 * g)]\n",
        "\n",
        "raices = np.roots(p)\n",
        "\n",
        "#Ordena de mayor a menor\n",
        "Raices = np.sort(raices)[::-1]\n",
        "\n",
        "#evalua y deja solo los resultados mayores a 0\n",
        "indices_Tipo_Flujo_1 = np.where(Raices > 0)[0]\n",
        "Tipo_Flujo_1 = Raices[indices_Tipo_Flujo_1]\n",
        "\n",
        "print(\"El valor de y1 subcritico es:  \", round(Tipo_Flujo_1[0], 3), \"m\")\n",
        "print(\"El valor de y1 supercritico es:\", round(Tipo_Flujo_1[1], 3), \"m\")"
      ],
      "metadata": {
        "colab": {
          "base_uri": "https://localhost:8080/"
        },
        "id": "6jt2O9qs4b6u",
        "outputId": "6c9405ae-b12d-498b-b7ea-ff27c93e60f3",
        "cellView": "form"
      },
      "execution_count": null,
      "outputs": [
        {
          "output_type": "stream",
          "name": "stdout",
          "text": [
            "El valor de y1 subcritico es:   1.525 m\n",
            "El valor de y1 supercritico es: 0.159 m\n"
          ]
        }
      ]
    },
    {
      "cell_type": "markdown",
      "source": [
        "2. Verificar tipo de flujo"
      ],
      "metadata": {
        "id": "stPJwmdo5GDK"
      }
    },
    {
      "cell_type": "code",
      "source": [
        "#@title\n",
        "from math import sqrt\n",
        "\n",
        "y1 = Tipo_Flujo_1[0]\n",
        "\n",
        "#Ecuación de froude\n",
        "F1 = Q / (y1 * b1 * sqrt(g * y1))\n",
        "\n",
        "\n",
        "if F1 < 1:\n",
        "  Tipo_Flujo_1 = 'Subcritico'\n",
        "elif F1 > 1:\n",
        "  Tipo_Flujo_1 = 'Supercritico'\n",
        "else:\n",
        "  Tipo_Flujo_1 = 'Critico'\n",
        "\n",
        "print(\"y = \",round(y1, 3),\", F = \",round(F1, 3),\", El tipo de Flujo en 1 es:\", Tipo_Flujo_1 )\n"
      ],
      "metadata": {
        "colab": {
          "base_uri": "https://localhost:8080/"
        },
        "id": "vAMmKO2-5IZC",
        "outputId": "e7c953f4-93fc-4e9d-b814-dc71374ddf1d",
        "cellView": "form"
      },
      "execution_count": null,
      "outputs": [
        {
          "output_type": "stream",
          "name": "stdout",
          "text": [
            "y =  1.525 , F =  0.141 , El tipo de Flujo en 1 es: Subcritico\n"
          ]
        }
      ]
    },
    {
      "cell_type": "markdown",
      "source": [
        "3. Conservación energia especifica de 1 a 2"
      ],
      "metadata": {
        "id": "1bqDljWc8FXF"
      }
    },
    {
      "cell_type": "code",
      "source": [
        "#E1 = E2 + he\n",
        "E2 = E1\n",
        "\n",
        "print(\"El valor de E2 es:\", round(E2, 2), \"m\")"
      ],
      "metadata": {
        "colab": {
          "base_uri": "https://localhost:8080/"
        },
        "id": "1GHT3wAp8JSp",
        "outputId": "5947dd6c-ed93-4689-e4c7-3c161693fa2d"
      },
      "execution_count": null,
      "outputs": [
        {
          "output_type": "stream",
          "name": "stdout",
          "text": [
            "El valor de E2 es: 1.54 m\n"
          ]
        }
      ]
    },
    {
      "cell_type": "markdown",
      "source": [
        "4. Calcular $y_{2}$"
      ],
      "metadata": {
        "id": "k8kiI7ZA8YPO"
      }
    },
    {
      "cell_type": "code",
      "source": [
        "#@title\n",
        "p = [1, -E2, 0, (Q**2) / (b2**2 * 2 * g)]\n",
        "\n",
        "raices = np.roots(p)\n",
        "\n",
        "#Ordena de mayor a menor\n",
        "Raices = np.sort(raices)[::-1]\n",
        "\n",
        "#evalua y deja solo los resultados mayores a 0\n",
        "indices_Tipo_Flujo_2 = np.where(Raices > 0)[0]\n",
        "Tipo_Flujo_2 = Raices[indices_Tipo_Flujo_2]\n",
        "\n",
        "print(\"El valor de y2 subcritico es:  \", round(Tipo_Flujo_2[0], 3), \"m\")\n",
        "print(\"El valor de y2 supercritico es:\", round(Tipo_Flujo_2[1], 3), \"m\")"
      ],
      "metadata": {
        "colab": {
          "base_uri": "https://localhost:8080/"
        },
        "id": "d6VPT07x8cuE",
        "outputId": "237a354c-286c-4789-9058-c95ef0149c95",
        "cellView": "form"
      },
      "execution_count": null,
      "outputs": [
        {
          "output_type": "stream",
          "name": "stdout",
          "text": [
            "El valor de y2 subcritico es:   1.523 m\n",
            "El valor de y2 supercritico es: 0.171 m\n"
          ]
        }
      ]
    },
    {
      "cell_type": "code",
      "source": [
        "#@title\n",
        "from math import sqrt\n",
        "\n",
        "y2 = Tipo_Flujo_2[0]\n",
        "\n",
        "#Ecuación de froude\n",
        "F2 = Q / (y2 * b2 * sqrt(g * y2))\n",
        "\n",
        "\n",
        "if F2 < 1:\n",
        "  Tipo_Flujo_2 = 'Subcritico'\n",
        "elif F2 > 1:\n",
        "  Tipo_Flujo_2 = 'Supercritico'\n",
        "else:\n",
        "  Tipo_Flujo_2 = 'Critico'\n",
        "\n",
        "print(\"y = \",round(y1, 3),\", F = \",round(F2, 3),\", El tipo de Flujo en 1 es:\", Tipo_Flujo_2 )"
      ],
      "metadata": {
        "colab": {
          "base_uri": "https://localhost:8080/"
        },
        "id": "Hk_W2Hhs8y35",
        "outputId": "1657a5e5-1431-4ebf-cf35-3c7d9cccaf9d",
        "cellView": "form"
      },
      "execution_count": null,
      "outputs": [
        {
          "output_type": "stream",
          "name": "stdout",
          "text": [
            "y =  1.525 , F =  0.151 , El tipo de Flujo en 1 es: Subcritico\n"
          ]
        }
      ]
    }
  ]
}