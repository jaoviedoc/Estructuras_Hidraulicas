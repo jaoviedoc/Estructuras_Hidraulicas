{
  "nbformat": 4,
  "nbformat_minor": 0,
  "metadata": {
    "colab": {
      "provenance": [],
      "authorship_tag": "ABX9TyNDrSAFvi79nLc0QsDdq5y1",
      "include_colab_link": true
    },
    "kernelspec": {
      "name": "python3",
      "display_name": "Python 3"
    },
    "language_info": {
      "name": "python"
    }
  },
  "cells": [
    {
      "cell_type": "markdown",
      "metadata": {
        "id": "view-in-github",
        "colab_type": "text"
      },
      "source": [
        "<a href=\"https://colab.research.google.com/github/jaoviedoc/Estructuras_Hidraulicas/blob/main/Calcular_Y_c.ipynb\" target=\"_parent\"><img src=\"https://colab.research.google.com/assets/colab-badge.svg\" alt=\"Open In Colab\"/></a>"
      ]
    },
    {
      "cell_type": "markdown",
      "source": [
        "# Calcular   ${\\color{DarkOrange} y_{c} }$"
      ],
      "metadata": {
        "id": "xOKBHxl4QUZa"
      }
    },
    {
      "cell_type": "code",
      "source": [
        "import matplotlib.pyplot as plt\n",
        "import numpy as np"
      ],
      "metadata": {
        "id": "yDmx25TMTFfU"
      },
      "execution_count": null,
      "outputs": []
    },
    {
      "cell_type": "code",
      "source": [
        "#@title Datos iniciales { run: \"auto\", vertical-output: true, display-mode: \"form\" }\n",
        "Q = 17 #@param {type:\"number\"}  # m^3 . s^-1    #Caudal del canal\n",
        "b = 6 #@param {type:\"number\"}   # m             #Ancho en la base\n",
        "m = 2 #@param {type:\"number\"}                   #Taludes verticales\n",
        "g = 9.81 # m . s^-2\n"
      ],
      "metadata": {
        "id": "jqbe2kpbTHf8"
      },
      "execution_count": null,
      "outputs": []
    },
    {
      "cell_type": "code",
      "source": [
        "#@title\n",
        "\n",
        "y_A = 1               #Altura del agua medida desde la superficie del canal\n",
        "y_al = y_A*1.2        #Altura canal\n",
        "\n",
        "# Dibujo del canal\n",
        "x_Canal = np.array([0, y_al * m, (( y_al * m) + b), (b + 2 * y_al * m)])\n",
        "y_Canal = np.array([0, -y_al   , -y_al            , 0])\n",
        "plt.plot(x_Canal, y_Canal, color='g')\n",
        "\n",
        "# Dibujo de la superficie del agua\n",
        "y_A_D = y_al - y_A\n",
        "x_Agua = np.array([y_A_D * m    , (b + 2 * y_al * m) - (y_A_D * m)])\n",
        "y_Agua = np.array([-(y_al - y_A), -(y_al - y_A)])\n",
        "plt.plot(x_Agua, y_Agua, color='b')\n",
        "\n",
        "# Cota y\n",
        "x_E_y = np.array([(y_al * m) + (b/10), (y_al * m) + (b/10)])\n",
        "y_E_y = np.array([-y_al, -y_A_D])\n",
        "plt.plot(x_E_y, y_E_y, color='darkorange', linestyle='--')\n",
        "\n",
        "# Dibujo pendiente del canal\n",
        "if m > 0:\n",
        "  y_C_M = y_al - (y_al * 0.2)\n",
        "  x_M = np.array([(b + 2 * y_al * m) - (y_C_M * m), (b + 2 * y_al * m)-((y_C_M * m)*0.7), (b + 2 * y_al * m)-((y_C_M * m)*0.7)])\n",
        "  y_M_A = ((((b + 2 * y_al * m)-((y_C_M * m)*0.7))-((b + 2 * y_al * m) - (y_C_M * m)))/m)-y_C_M\n",
        "  y_M = np.array([-y_C_M , -y_C_M , y_M_A])\n",
        "  plt.plot(x_M, y_M, color='m', linestyle=':')\n",
        "  x_M_L = (((b + 2 * y_al * m)-((y_C_M * m)*0.7))+((b + 2 * y_al * m) - (y_C_M * m)))/2\n",
        "  plt.text(x_M_L , -y_C_M,  f' m = {m:.2f}' , ha='left', va='top' , c='m')\n",
        "\n",
        "# Textos\n",
        "plt.text( (y_al * m) + (b/2), -y_A_D,  'T' , ha='center', va='bottom' , c='b')\n",
        "plt.text((y_al * m) + (b/10), -((y_al+y_A_D)/2) ,  ' y' , ha='left', va='bottom', c='darkorange', )\n",
        "plt.text((y_al * m) + (b/2), -((y_al+y_A_D)/2.5) ,  f' Q = {Q:.2f} m³/s' , ha='center', va='bottom', c='k')\n",
        "plt.text( (y_al * m) + (b/2), -y_al,  f' b = {b:.2f} m' , ha='center', va='bottom', c='g')\n",
        "\n",
        "plt.axis('off')\n",
        "\n",
        "plt.show()\n"
      ],
      "metadata": {
        "colab": {
          "base_uri": "https://localhost:8080/",
          "height": 248
        },
        "cellView": "form",
        "id": "z6_qxBqZ-mgw",
        "outputId": "346c6f9b-fae9-4756-c649-e3cc8fc277b9"
      },
      "execution_count": null,
      "outputs": [
        {
          "output_type": "display_data",
          "data": {
            "text/plain": [
              "<Figure size 432x288 with 1 Axes>"
            ],
            "image/png": "[encoded data removed]"
          },
          "metadata": {
            "needs_background": "light"
          }
        }
      ]
    },
    {
      "cell_type": "markdown",
      "source": [
        "\n",
        "\n",
        "  Partiendo de Froude = 1"
      ],
      "metadata": {
        "id": "kMbbBaeOAF9M"
      }
    },
    {
      "cell_type": "code",
      "source": [
        "#@title\n",
        "from math import sqrt\n",
        "\n",
        "def ecuacion (y, x):\n",
        "  return sqrt ((g * ((b*y + m*y**2)**3)) / (b + 2*y*m)) - x"
      ],
      "metadata": {
        "id": "eA6OT0FSDUeS"
      },
      "execution_count": null,
      "outputs": []
    },
    {
      "cell_type": "code",
      "source": [
        "from scipy.optimize import fsolve\n",
        "\n",
        "sol = fsolve(lambda y: ecuacion(y, Q), 1)\n",
        "print(\"El valor de y_c es:\", sol[0])"
      ],
      "metadata": {
        "colab": {
          "base_uri": "https://localhost:8080/"
        },
        "id": "syNs2dwPFT4G",
        "outputId": "fec1d13f-5d22-409a-e956-3c81d2233c47"
      },
      "execution_count": null,
      "outputs": [
        {
          "output_type": "stream",
          "name": "stdout",
          "text": [
            "El valor de y_c es: 0.8468198255736797\n"
          ]
        }
      ]
    },
    {
      "cell_type": "code",
      "source": [
        "#@title\n",
        "y_range = np.linspace(0.3, 5, 100)\n",
        "E = y_range + ((Q**2)/(((b*y_range + m*y_range**2)**2)*2*g))\n",
        "plt.plot(E, y_range, c = 'b', linewidth=2, label = 'E')\n",
        "\n",
        "y_c = sol[0]\n",
        "E_c = y_c + ((Q**2)/(((b*y_c + m*y_c**2)**2)*2*g))\n",
        "plt.plot(E_c, y_c)\n",
        "plt.scatter(E_c, y_c, c='r', label=f' y_c = {y_c:.3f} m, E= {E_c:.3f}')\n",
        "\n",
        "E_igual_Y = y_range\n",
        "plt.plot(E_igual_Y, y_range, c = 'g', label = 'E=y', linestyle='--')\n",
        "\n",
        "E_rango_c = np.array([0, 5])\n",
        "y_rango_c = np.array([y_c, y_c])\n",
        "plt.plot(E_rango_c, y_rango_c, c = 'r', linestyle='-.')\n",
        "\n",
        "plt.xlabel('E (m)')\n",
        "plt.ylabel('y (m)')\n",
        "plt.title('Energía vs y')\n",
        "plt.legend()\n",
        "plt.axis([0, 5, 0, 5])\n",
        "plt.show()"
      ],
      "metadata": {
        "colab": {
          "base_uri": "https://localhost:8080/",
          "height": 295
        },
        "id": "Ayvax9krLwsb",
        "outputId": "7610b7f8-0ca5-4681-d604-f3557e5765de"
      },
      "execution_count": null,
      "outputs": [
        {
          "output_type": "display_data",
          "data": {
            "text/plain": [
              "<Figure size 432x288 with 1 Axes>"
            ],
            "image/png": "[encoded data removed]"
          },
          "metadata": {
            "needs_background": "light"
          }
        }
      ]
    }
  ]
}