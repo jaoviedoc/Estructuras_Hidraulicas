{
  "nbformat": 4,
  "nbformat_minor": 0,
  "metadata": {
    "colab": {
      "provenance": [],
      "authorship_tag": "ABX9TyOyCKsn4KqLsBbCtLhsn9mp",
      "include_colab_link": true
    },
    "kernelspec": {
      "name": "python3",
      "display_name": "Python 3"
    },
    "language_info": {
      "name": "python"
    }
  },
  "cells": [
    {
      "cell_type": "markdown",
      "metadata": {
        "id": "view-in-github",
        "colab_type": "text"
      },
      "source": [
        "<a href=\"https://colab.research.google.com/github/jaoviedoc/Estructuras_Hidraulicas/blob/main/Calcular_Y_c.ipynb\" target=\"_parent\"><img src=\"https://colab.research.google.com/assets/colab-badge.svg\" alt=\"Open In Colab\"/></a>"
      ]
    },
    {
      "cell_type": "markdown",
      "source": [
        "# Calcular   ${\\color{DarkOrange} y_{c} }$"
      ],
      "metadata": {
        "id": "xOKBHxl4QUZa"
      }
    },
    {
      "cell_type": "code",
      "source": [
        "import matplotlib.pyplot as plt\n",
        "import numpy as np"
      ],
      "metadata": {
        "id": "yDmx25TMTFfU"
      },
      "execution_count": 61,
      "outputs": []
    },
    {
      "cell_type": "code",
      "source": [
        "#@title Datos iniciales { run: \"auto\", vertical-output: true, display-mode: \"form\" }\n",
        "Q = 30 #@param {type:\"number\"}  # m^3 . s^-1    #Caudal del canal\n",
        "b = 4 #@param {type:\"number\"}   # m             #Ancho en la base\n",
        "m1 = 2 #@param {type:\"number\"}                   #Taludes verticales\n",
        "m2 = 3.5 #@param {type:\"number\"}                   #Taludes verticales\n",
        "g = 9.81 # m . s^-2\n"
      ],
      "metadata": {
        "id": "jqbe2kpbTHf8"
      },
      "execution_count": 62,
      "outputs": []
    },
    {
      "cell_type": "code",
      "source": [
        "#@title\n",
        "\n",
        "y_A = 1               #Altura del agua medida desde la superficie del canal\n",
        "y_al = y_A*1.2        #Altura canal\n",
        "\n",
        "# Dibujo del canal\n",
        "x_Canal = np.array([0, y_al * m1, (( y_al * m1) + b), (y_al * m1 + b + y_al * m2)])\n",
        "y_Canal = np.array([0, -y_al   , -y_al            , 0])\n",
        "plt.plot(x_Canal, y_Canal, color='g')\n",
        "\n",
        "# Dibujo de la superficie del agua\n",
        "y_A_D = y_al - y_A\n",
        "x_Agua = np.array([y_A_D * m1    , (y_al * m1 + b + y_al * m2)- (y_A_D * m2)])\n",
        "y_Agua = np.array([-(y_al - y_A), -(y_al - y_A)])\n",
        "plt.plot(x_Agua, y_Agua, color='b')\n",
        "\n",
        "# Cota y\n",
        "x_E_y = np.array([(y_al * m1) + (b/10), (y_al * m1) + (b/10)])\n",
        "y_E_y = np.array([-y_al, -y_A_D])\n",
        "plt.plot(x_E_y, y_E_y, color='darkorange', linestyle='--')\n",
        "\n",
        "# Dibujo pendiente del canal\n",
        "if m1 > 0:\n",
        "  y_C_m1 = y_al - (y_al * 0.2)\n",
        "  x_m1 = np.array ([ (y_al/2)*m1, (y_al/2)*m1 ,y_C_m1 * m1])\n",
        "  y_m1 = np.array ([-(y_al/2),-1,-1])\n",
        "  plt.plot(x_m1, y_m1, color='m', linestyle=':')\n",
        "  x_m1_L= ((y_al/2)*m1 + (y_al/2)*m1)/2\n",
        "  plt.text(x_m1_L , -(y_C_m1+0.06),  f' m = {m1:.2f}' , ha='center', va='top' , c='m')\n",
        "\n",
        "if m2 > 0:\n",
        "  y_C_M = y_al - (y_al * 0.2)\n",
        "  x_M = np.array([(y_al * m1 + b + y_al * m2) - (y_C_M * m2), (y_al * m1 + b + y_al * m2)-((y_C_M * m2)*0.7), (y_al * m1 + b +  y_al * m2)-((y_C_M * m2)*0.7)])\n",
        "  y_M_A = ((((b + 2 * y_al * m2)-((y_C_M * m2)*0.7))-((b + 2 * y_al * m2) - (y_C_M * m2)))/m2)-y_C_M\n",
        "  y_M = np.array([-y_C_M , -y_C_M , y_M_A])\n",
        "  plt.plot(x_M, y_M, color='m', linestyle=':')\n",
        "  x_M_L = (((y_al * m1 + b + y_al * m2)-((y_C_M * m2)*0.7))+((y_al * m1 + b + y_al * m2) - (y_C_M * m2)))/2\n",
        "  plt.text(x_M_L , -y_C_M,  f' m = {m2:.2f}' , ha='left', va='top' , c='m')\n",
        "\n",
        "\n",
        "# Textos\n",
        "plt.text( (y_al * m1) + (b/2), -y_A_D,  'T' , ha='center', va='bottom' , c='b')\n",
        "plt.text((y_al * m1) + (b/10), -((y_al+y_A_D)/2) ,  ' y' , ha='left', va='bottom', c='darkorange', )\n",
        "plt.text((y_al * m1) + (b/2), -((y_al+y_A_D)/2.5) ,  f' Q = {Q:.2f} m³/s' , ha='center', va='bottom', c='k')\n",
        "if b > 0:\n",
        "  plt.text( (y_al * m1) + (b/2), -y_al,  f' b = {b:.2f} m' , ha='center', va='bottom', c='g')\n",
        "\n",
        "plt.axis('off')\n",
        "\n",
        "plt.show()\n"
      ],
      "metadata": {
        "colab": {
          "base_uri": "https://localhost:8080/",
          "height": 248
        },
        "id": "z6_qxBqZ-mgw",
        "outputId": "59dafc9b-1cdc-4f5c-c15d-7e50c015fd85",
        "cellView": "form"
      },
      "execution_count": 63,
      "outputs": [
        {
          "output_type": "display_data",
          "data": {
            "text/plain": [
              "<Figure size 432x288 with 1 Axes>"
            ],
            "image/png": "[encoded data removed]"
          },
          "metadata": {
            "needs_background": "light"
          }
        }
      ]
    },
    {
      "cell_type": "markdown",
      "source": [
        "\n",
        "\n",
        "  Partiendo de Froude = 1"
      ],
      "metadata": {
        "id": "kMbbBaeOAF9M"
      }
    },
    {
      "cell_type": "code",
      "source": [
        "#@title\n",
        "from math import sqrt\n",
        "\n",
        "def ecuacion (y, x):\n",
        "  return sqrt ((g * (((m1*y**2)/2 + b*y + (m2*y**2)/2)**3)) / (y*m1 + b + y*m2)) - x"
      ],
      "metadata": {
        "id": "eA6OT0FSDUeS"
      },
      "execution_count": 64,
      "outputs": []
    },
    {
      "cell_type": "code",
      "source": [
        "from scipy.optimize import fsolve\n",
        "\n",
        "sol = fsolve(lambda y: ecuacion(y, Q), 1)\n",
        "print(\"El valor de y_c es:\", sol[0])"
      ],
      "metadata": {
        "colab": {
          "base_uri": "https://localhost:8080/"
        },
        "id": "syNs2dwPFT4G",
        "outputId": "00d930b5-f62f-4956-ff58-9866b6b7263e"
      },
      "execution_count": 65,
      "outputs": [
        {
          "output_type": "stream",
          "name": "stdout",
          "text": [
            "El valor de y_c es: 1.323875164653096\n"
          ]
        }
      ]
    },
    {
      "cell_type": "code",
      "source": [
        "#@title\n",
        "y_range = np.linspace(0.1, 5, 100)\n",
        "E = y_range + ((Q**2)/(((((m1*y_range**2)/2 + b*y_range + (m2*y_range**2)/2))**2)*2*g))\n",
        "plt.plot(E, y_range, c = 'b', linewidth=2, label = 'E')\n",
        "\n",
        "y_c = sol[0]\n",
        "E_c = y_c + ((Q**2)/((((m1*y_c**2)/2 + b*y_c + (m2*y_c**2)/2)**2)*2*g))\n",
        "plt.plot(E_c, y_c)\n",
        "plt.scatter(E_c, y_c, c='r', label=f' y_c = {y_c:.3f} m, E= {E_c:.3f}')\n",
        "\n",
        "E_igual_Y = y_range\n",
        "plt.plot(E_igual_Y, y_range, c = 'g', label = 'E=y', linestyle='--')\n",
        "\n",
        "E_rango_c = np.array([0, 5])\n",
        "y_rango_c = np.array([y_c, y_c])\n",
        "plt.plot(E_rango_c, y_rango_c, c = 'r', linestyle='-.')\n",
        "\n",
        "plt.xlabel('E (m)')\n",
        "plt.ylabel('y (m)')\n",
        "plt.title('Energía vs y')\n",
        "plt.legend()\n",
        "plt.axis([0, 5, 0, 5])\n",
        "plt.show()"
      ],
      "metadata": {
        "colab": {
          "base_uri": "https://localhost:8080/",
          "height": 295
        },
        "id": "Ayvax9krLwsb",
        "outputId": "7e321115-979d-4ac8-b868-7a1ddc0cb774"
      },
      "execution_count": 67,
      "outputs": [
        {
          "output_type": "display_data",
          "data": {
            "text/plain": [
              "<Figure size 432x288 with 1 Axes>"
            ],
            "image/png": "[encoded data removed]"
          },
          "metadata": {
            "needs_background": "light"
          }
        }
      ]
    }
  ]
}