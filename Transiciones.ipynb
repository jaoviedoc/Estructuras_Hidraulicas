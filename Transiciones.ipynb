{
  "nbformat": 4,
  "nbformat_minor": 0,
  "metadata": {
    "colab": {
      "provenance": [],
      "authorship_tag": "ABX9TyNR4U1txXdUeyxK2SGZt+Lm",
      "include_colab_link": true
    },
    "kernelspec": {
      "name": "python3",
      "display_name": "Python 3"
    },
    "language_info": {
      "name": "python"
    }
  },
  "cells": [
    {
      "cell_type": "markdown",
      "metadata": {
        "id": "view-in-github",
        "colab_type": "text"
      },
      "source": [
        "<a href=\"https://colab.research.google.com/github/jaoviedoc/Estructuras_Hidraulicas/blob/main/Transiciones.ipynb\" target=\"_parent\"><img src=\"https://colab.research.google.com/assets/colab-badge.svg\" alt=\"Open In Colab\"/></a>"
      ]
    },
    {
      "cell_type": "markdown",
      "source": [
        "# Transiciones\n",
        "  Cambios en el fondo"
      ],
      "metadata": {
        "id": "ohg1bJK-ibaN"
      }
    },
    {
      "cell_type": "code",
      "execution_count": null,
      "metadata": {
        "id": "W8owGrRZF0JV"
      },
      "outputs": [],
      "source": [
        "import matplotlib.pyplot as plt\n",
        "import numpy as np"
      ]
    },
    {
      "cell_type": "code",
      "source": [
        "#@title Datos iniciales { run: \"auto\" }\n",
        "Q = 10 #@param {type:\"number\"}   # m^3 . s^-1    #Caudal del canal\n",
        "b = 4 #@param {type:\"number\"}   # m             #Ancho en la base\n",
        "y1 = 2.5 #@param {type:\"number\"}   # m             #Profundidad canal\n",
        "Δz = .2 #@param {type:\"number\"}  # m             #medida del escalon\n",
        "g = 9.81 # m . s^-2\n",
        "Δh = Δz*.8\n"
      ],
      "metadata": {
        "id": "K0yJmQ6BjCak",
        "cellView": "form"
      },
      "execution_count": null,
      "outputs": []
    },
    {
      "cell_type": "code",
      "source": [
        "#@title\n",
        "# Dibujo del canal\n",
        "x_Canal = np.array([0, 15, 15, 30])\n",
        "y_Canal = np.array([0, 0, Δz, Δz])\n",
        "plt.plot(x_Canal, y_Canal, color='g')\n",
        "\n",
        "# Dibujo superficie del agua\n",
        "x_agua = np.array([0, 15*0.95, 15*1.05, 30])\n",
        "y_agua = np.array([y1, y1, y1-Δh, y1-Δh])\n",
        "plt.plot(x_agua, y_agua, color='b')\n",
        "\n",
        "# Cota y1\n",
        "x_E_y = np.array([5, 5])\n",
        "y_E_y = np.array([0, y1])\n",
        "plt.plot(x_E_y, y_E_y, color='darkorange', linestyle='--')\n",
        "\n",
        "# Cota Δz\n",
        "x_E_y = np.array([18, 18])\n",
        "y_E_y = np.array([0, Δz])\n",
        "plt.plot(x_E_y, y_E_y, color='darkorange', linestyle='--')\n",
        "\n",
        "# Cota Δh\n",
        "x_E_y = np.array([18, 18])\n",
        "y_E_y = np.array([y1, y1-Δh])\n",
        "plt.plot(x_E_y, y_E_y, color='darkorange', linestyle='--')\n",
        "\n",
        "# Cota y2\n",
        "x_E_y = np.array([25, 25])\n",
        "y_E_y = np.array([Δz, y1-Δh])\n",
        "plt.plot(x_E_y, y_E_y, color='darkorange', linestyle='--')\n",
        "\n",
        "#Textos\n",
        "plt.text(5, 2*y1/3 ,  f'    Q = {Q:.2f} m³/s' , ha='left', va='center', c='k')\n",
        "plt.text(5, y1/2 ,  f' y1 = {y1:.2f} m' , ha='left', va='center', c='darkorange')\n",
        "plt.text(18, Δz/2 ,  f' Δz = {abs(Δz):.2f} m' , ha='left', va='center', c='darkorange')\n",
        "plt.text(18, (y1-Δh + y1)/2 , ' Δh', ha='left', va='center', c='darkorange')\n",
        "plt.text(25, (y1-Δh + Δz)/2 ,  ' y2', ha='left', va='center', c='darkorange')\n",
        "\n",
        "plt.axis('off')\n",
        "plt.show()"
      ],
      "metadata": {
        "colab": {
          "base_uri": "https://localhost:8080/",
          "height": 248
        },
        "id": "4NBWP8x8kuKU",
        "outputId": "bc034c25-22b9-434a-db07-7f64387daae9",
        "cellView": "form"
      },
      "execution_count": null,
      "outputs": [
        {
          "output_type": "display_data",
          "data": {
            "text/plain": [
              "<Figure size 432x288 with 1 Axes>"
            ],
            "image/png": "[encoded data removed]"
          },
          "metadata": {
            "needs_background": "light"
          }
        }
      ]
    },
    {
      "cell_type": "markdown",
      "source": [
        "1. Calculo de $E_{1}$"
      ],
      "metadata": {
        "id": "pq72nwDqG4eu"
      }
    },
    {
      "cell_type": "code",
      "source": [
        "E1 = y1 + ((Q**2)/((b*y1)**2 *2*g))\n",
        "print(\"El valor de E1 es:\", round(E1, 2), \"m\")"
      ],
      "metadata": {
        "colab": {
          "base_uri": "https://localhost:8080/"
        },
        "id": "LA0ORQy7G2vo",
        "outputId": "e27f2998-9222-491a-e1a6-48a306b23a12"
      },
      "execution_count": null,
      "outputs": [
        {
          "output_type": "stream",
          "name": "stdout",
          "text": [
            "El valor de E1 es: 2.55 m\n"
          ]
        }
      ]
    },
    {
      "cell_type": "markdown",
      "source": [
        "2. Conservación de energia especifica entre 1 y 2"
      ],
      "metadata": {
        "id": "X7cZXPsEJa-n"
      }
    },
    {
      "cell_type": "code",
      "source": [
        "E2 = E1 - Δz\n",
        "print(\"El valor de E2 es:\", round(E2, 2), \"m\")"
      ],
      "metadata": {
        "colab": {
          "base_uri": "https://localhost:8080/"
        },
        "id": "1G9yFLRCJgqq",
        "outputId": "e99acf5d-58f7-4363-f316-55ba0cc0103b"
      },
      "execution_count": null,
      "outputs": [
        {
          "output_type": "stream",
          "name": "stdout",
          "text": [
            "El valor de E2 es: 2.35 m\n"
          ]
        }
      ]
    },
    {
      "cell_type": "markdown",
      "source": [
        "3. Cálculo de y2"
      ],
      "metadata": {
        "id": "67mFD52xKB9h"
      }
    },
    {
      "cell_type": "code",
      "source": [
        "#@title\n",
        "#Raices del polinomio\n",
        "#E2 = y2 + ((Q**2)/((b*y2)**2 *2*g))\n",
        "#E2 * y2 ** 2 = y**3 + ((Q**2)/(b**2 *2*g))\n",
        "p = [1, -E2, 0, (Q**2) / (b**2 * 2 * g)]\n",
        "\n",
        "raices = np.roots(p)\n",
        "\n",
        "#Ordena de mayor a menor\n",
        "Raices = np.sort(raices)[::-1]\n",
        "\n",
        "#evalua y deja solo los resultados mayores a 0\n",
        "indices_Tipo_Flujo = np.where(Raices > 0)[0]\n",
        "Tipo_Flujo_2 = Raices[indices_Tipo_Flujo]\n",
        "\n",
        "print(\"El valor de y2 subcritico es:  \", round(Tipo_Flujo_2[0], 3), \"m\")\n",
        "print(\"El valor de y2 supercritico es:\", round(Tipo_Flujo_2[1], 3), \"m\")"
      ],
      "metadata": {
        "colab": {
          "base_uri": "https://localhost:8080/"
        },
        "cellView": "form",
        "id": "lRKo87J5KEa7",
        "outputId": "87662145-2d9f-4852-c9a2-71a491dcb4f0"
      },
      "execution_count": null,
      "outputs": [
        {
          "output_type": "stream",
          "name": "stdout",
          "text": [
            "El valor de y2 subcritico es:   2.29 m\n",
            "El valor de y2 supercritico es: 0.405 m\n"
          ]
        }
      ]
    },
    {
      "cell_type": "markdown",
      "source": [
        "4. Calcular Yc"
      ],
      "metadata": {
        "id": "pdRV4-EEPjZ9"
      }
    },
    {
      "cell_type": "code",
      "source": [
        "from math import sqrt\n",
        "#Definicion de la ecuación del numero de Froude\n",
        "# 1 = Q /((b*y_c) * sqrt(g*y_c))\n",
        "# Q = (b*y_c) * sqrt(g*y_c)\n",
        "\n",
        "y_c = (Q / (b * sqrt(g)))**(2/3)\n",
        "print(\"El valor de y_c es:\", round(y_c, 3), \"m\")"
      ],
      "metadata": {
        "colab": {
          "base_uri": "https://localhost:8080/"
        },
        "id": "HA7RCn9MPfL5",
        "outputId": "c63bad5b-fbde-4cae-cced-a0ec56c6c68e"
      },
      "execution_count": null,
      "outputs": [
        {
          "output_type": "stream",
          "name": "stdout",
          "text": [
            "El valor de y_c es: 0.86 m\n"
          ]
        }
      ]
    },
    {
      "cell_type": "markdown",
      "source": [
        "5. Tipo de flujo en 1"
      ],
      "metadata": {
        "id": "biUOPSStpigQ"
      }
    },
    {
      "cell_type": "code",
      "source": [
        "#@title\n",
        "#Para definir el tipo de flujo\n",
        "if y1 > y_c:\n",
        "  Tipo_Flujo = 'Subcritico'\n",
        "elif y1 < y_c:\n",
        "  Tipo_Flujo = 'Supercritico'\n",
        "else:\n",
        "  Tipo_Flujo = 'Critico'\n",
        "\n",
        "Tip_Fluj_1 = Tipo_Flujo\n",
        "print(\"El tipo de Flujo en 1 es:\", Tip_Fluj_1)"
      ],
      "metadata": {
        "colab": {
          "base_uri": "https://localhost:8080/"
        },
        "cellView": "form",
        "id": "u3Vo4TB-pk5c",
        "outputId": "37d4190f-38bc-4b0c-ee4e-0a54e4ca6492"
      },
      "execution_count": null,
      "outputs": [
        {
          "output_type": "stream",
          "name": "stdout",
          "text": [
            "El tipo de Flujo en 1 es: Subcritico\n"
          ]
        }
      ]
    },
    {
      "cell_type": "markdown",
      "source": [
        "6. Profundidad en 2"
      ],
      "metadata": {
        "id": "InHUq93EqDbQ"
      }
    },
    {
      "cell_type": "code",
      "source": [
        "#@title\n",
        "if Tip_Fluj_1 == 'Subcritico':\n",
        "  y2 = Tipo_Flujo_2[0]\n",
        "elif Tip_Fluj_1 == 'Supercritico':\n",
        "  y2 = Tipo_Flujo_2[1]\n",
        "\n",
        "print(\"El tipo de Flujo en 2 es:\", Tip_Fluj_1, \", con un valor de y2 =\", round(y2,3), \"m\")"
      ],
      "metadata": {
        "colab": {
          "base_uri": "https://localhost:8080/"
        },
        "cellView": "form",
        "id": "NFVLel2qqC4i",
        "outputId": "1b8aa288-9d0a-41d9-d1ff-202c41e53397"
      },
      "execution_count": null,
      "outputs": [
        {
          "output_type": "stream",
          "name": "stdout",
          "text": [
            "El tipo de Flujo en 2 es: Subcritico , con un valor de y2 = 2.29 m\n"
          ]
        }
      ]
    },
    {
      "cell_type": "markdown",
      "source": [
        "7. Calcular $Δh$"
      ],
      "metadata": {
        "id": "LK6nQY8bv4yZ"
      }
    },
    {
      "cell_type": "code",
      "source": [
        "Δh = y1-y2-Δz\n",
        "print(\"El valor de Δh es:\", round(Δh,3), \"m\")"
      ],
      "metadata": {
        "colab": {
          "base_uri": "https://localhost:8080/"
        },
        "id": "wDSv-sH8wAgv",
        "outputId": "2783751f-8ead-4a77-da11-3588e91caa69"
      },
      "execution_count": null,
      "outputs": [
        {
          "output_type": "stream",
          "name": "stdout",
          "text": [
            "El valor de Δh es: 0.01 m\n"
          ]
        }
      ]
    },
    {
      "cell_type": "code",
      "source": [
        "#@title\n",
        "\n",
        "#Multiplicador de escala para Δh\n",
        "M_Δh = 10\n",
        "\n",
        "# Dibujo del canal\n",
        "x_Canal = np.array([0, 15, 15, 30])\n",
        "y_Canal = np.array([0, 0, Δz, Δz])\n",
        "plt.plot(x_Canal, y_Canal, color='g')\n",
        "\n",
        "# Dibujo superficie del agua\n",
        "x_agua = np.array([0, 15*0.95, 15*1.05, 30])\n",
        "y_agua = np.array([y1, y1, y1-(Δh*M_Δh), y1-(Δh*M_Δh)])\n",
        "plt.plot(x_agua, y_agua, color='b')\n",
        "\n",
        "# Cota y1\n",
        "x_E_y = np.array([5, 5])\n",
        "y_E_y = np.array([0, y1])\n",
        "plt.plot(x_E_y, y_E_y, color='darkorange', linestyle='--')\n",
        "\n",
        "# Cota Δz\n",
        "x_E_y = np.array([18, 18])\n",
        "y_E_y = np.array([0, Δz])\n",
        "plt.plot(x_E_y, y_E_y, color='darkorange', linestyle='--')\n",
        "\n",
        "# Cota Δh\n",
        "x_E_y = np.array([18, 18])\n",
        "y_E_y = np.array([y1, y1-(Δh*M_Δh)])\n",
        "plt.plot(x_E_y, y_E_y, color='darkorange', linestyle='--')\n",
        "\n",
        "# Cota y2\n",
        "x_E_y = np.array([25, 25])\n",
        "y_E_y = np.array([Δz, y1-(Δh*M_Δh)])\n",
        "plt.plot(x_E_y, y_E_y, color='darkorange', linestyle='--')\n",
        "\n",
        "#Textos\n",
        "plt.text(5, 2*y1/3 ,  f'    Q = {Q:.2f} m³/s' , ha='left', va='center', c='k')\n",
        "plt.text(5, y1/2 ,  f' y1 = {y1:.2f} m' , ha='left', va='center', c='darkorange')\n",
        "plt.text(18, Δz/2 ,  f' Δz = {abs(Δz):.2f} m' , ha='left', va='center', c='darkorange')\n",
        "plt.text(18, (y1-Δh + y1)/2 , f' Δh = {abs(Δh):.3f} m', ha='left', va='center', c='darkorange')\n",
        "plt.text(25, (y1-Δh + Δz)/2 ,  f' y2 = {y2:.2f} m', ha='left', va='center', c='darkorange')\n",
        "\n",
        "plt.axis('off')\n",
        "plt.show()"
      ],
      "metadata": {
        "colab": {
          "base_uri": "https://localhost:8080/",
          "height": 248
        },
        "cellView": "form",
        "id": "Tg1zDv0FwqxG",
        "outputId": "ae816614-38c5-4646-a196-5010701837f7"
      },
      "execution_count": null,
      "outputs": [
        {
          "output_type": "display_data",
          "data": {
            "text/plain": [
              "<Figure size 432x288 with 1 Axes>"
            ],
            "image/png": "[encoded data removed]"
          },
          "metadata": {
            "needs_background": "light"
          }
        }
      ]
    },
    {
      "cell_type": "code",
      "source": [
        "#@title\n",
        "\n",
        "#Linea de Energia especifica\n",
        "y_range = np.linspace(0.3, 5, 100)\n",
        "E = y_range + ((Q**2)/(((b*y_range)**2)*2*g))\n",
        "plt.plot(E, y_range, c = 'b', linewidth=2, label = 'E')\n",
        "\n",
        "#Punto Y critico\n",
        "y_cric = y_c\n",
        "E_c = y_cric + ((Q**2)/(((b*y_cric)**2)*2*g))\n",
        "plt.scatter(E_c, y_cric, c='r', label=f' yc= {y_c:.3f} m, E= {E_c:.3f} m')\n",
        "\n",
        "#Linea Y critica\n",
        "E_rango_c = np.array([0, 5])\n",
        "y_rango_c = np.array([y_c, y_c])\n",
        "plt.plot(E_rango_c, y_rango_c, c = 'r', linestyle='-.')\n",
        "\n",
        "#Punto Y1 dado en el ejercicio\n",
        "E_y_1 = y1 + ((Q**2)/(((b*y1)**2)*2*g))\n",
        "plt.scatter(E_y_1, y1, c='m', label=f' y1= {y1:.3f} m, E= {E_y_1:.3f} m')\n",
        "\n",
        "#Punto Y2 dado en el ejercicio\n",
        "E_y_2 = y2 + ((Q**2)/(((b*y2)**2)*2*g))\n",
        "plt.scatter(E_y_2, y2, c='y', label=f' y2= {y2:.3f} m, E= {E_y_2:.3f} m')\n",
        "\n",
        "#tipo de flujo\n",
        "plt.text(E_y_2*1.2, y2, f\"Tipo de flujo: {Tipo_Flujo}\")\n",
        "\n",
        "#Linea a 45° o E=y\n",
        "E_igual_Y = y_range\n",
        "plt.plot(E_igual_Y, y_range, c = 'g', label = 'E=y', linestyle='--')\n",
        "\n",
        "#Formato grafica\n",
        "plt.xlabel('E (m)')\n",
        "plt.ylabel('y (m)')\n",
        "plt.title('Energía vs y')\n",
        "plt.legend()\n",
        "plt.axis([0, 5, 0, 5])\n",
        "plt.show()"
      ],
      "metadata": {
        "colab": {
          "base_uri": "https://localhost:8080/",
          "height": 295
        },
        "cellView": "form",
        "id": "5DOdIEfR30DF",
        "outputId": "3432160a-45b7-4851-b817-9193688e4303"
      },
      "execution_count": null,
      "outputs": [
        {
          "output_type": "display_data",
          "data": {
            "text/plain": [
              "<Figure size 432x288 with 1 Axes>"
            ],
            "image/png": "[encoded data removed]"
          },
          "metadata": {
            "needs_background": "light"
          }
        }
      ]
    }
  ]
}