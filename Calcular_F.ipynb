{
  "nbformat": 4,
  "nbformat_minor": 0,
  "metadata": {
    "colab": {
      "provenance": [],
      "authorship_tag": "ABX9TyMgT3TCp03d3f2aFa6fwHTS",
      "include_colab_link": true
    },
    "kernelspec": {
      "name": "python3",
      "display_name": "Python 3"
    },
    "language_info": {
      "name": "python"
    }
  },
  "cells": [
    {
      "cell_type": "markdown",
      "metadata": {
        "id": "view-in-github",
        "colab_type": "text"
      },
      "source": [
        "<a href=\"https://colab.research.google.com/github/jaoviedoc/Estructuras_Hidraulicas/blob/main/Calcular_F.ipynb\" target=\"_parent\"><img src=\"https://colab.research.google.com/assets/colab-badge.svg\" alt=\"Open In Colab\"/></a>"
      ]
    },
    {
      "cell_type": "markdown",
      "source": [
        "# Calcular   $F$ , con tipo de flujo"
      ],
      "metadata": {
        "id": "gNOt8BMSWuNk"
      }
    },
    {
      "cell_type": "code",
      "source": [
        "import matplotlib.pyplot as plt\n",
        "import numpy as np"
      ],
      "metadata": {
        "id": "mJhcLc_YX1b5"
      },
      "execution_count": null,
      "outputs": []
    },
    {
      "cell_type": "code",
      "execution_count": null,
      "metadata": {
        "id": "OcQgpZPDWslt"
      },
      "outputs": [],
      "source": [
        "#@title Datos iniciales  { run: \"auto\", display-mode: \"both\" }\n",
        "y = 1.3 #@param {type:\"number\"}\n",
        "Q = 17 #@param {type:\"number\"}  # m^3 . s^-1    #Caudal del canal\n",
        "b = 6 #@param {type:\"number\"}   # m             #Ancho en la base\n",
        "m = 2 #@param {type:\"number\"}                   #Taludes verticales\n",
        "g = 9.81 # m . s^-2"
      ]
    },
    {
      "cell_type": "markdown",
      "source": [
        "Dibujo ejercicio"
      ],
      "metadata": {
        "id": "5qklFSCceoqL"
      }
    },
    {
      "cell_type": "code",
      "source": [
        "#@title\n",
        "\n",
        "y_A = y               #Altura del agua medida desde la superficie del canal\n",
        "y_al = y_A*1.2        #Altura canal\n",
        "T = b + 2*m*y         #Ancho superficial\n",
        "A = ((b + T)/2)*y     #Area del canal\n",
        "\n",
        "# Dibujo del canal\n",
        "x_Canal = np.array([0, y_al * m, (( y_al * m) + b), (b + 2 * y_al * m)])\n",
        "y_Canal = np.array([0, -y_al   , -y_al            , 0])\n",
        "plt.plot(x_Canal, y_Canal, color='g')\n",
        "\n",
        "# Dibujo de la superficie del agua\n",
        "y_A_D = y_al - y_A\n",
        "x_Agua = np.array([y_A_D * m    , (b + 2 * y_al * m) - (y_A_D * m)])\n",
        "y_Agua = np.array([-(y_al - y_A), -(y_al - y_A)])\n",
        "plt.plot(x_Agua, y_Agua, color='b')\n",
        "\n",
        "# Cota y\n",
        "x_E_y = np.array([(y_al * m) + (b/10), (y_al * m) + (b/10)])\n",
        "y_E_y = np.array([-y_al, -y_A_D])\n",
        "plt.plot(x_E_y, y_E_y, color='darkorange', linestyle='--')\n",
        "\n",
        "# Dibujo pendiente del canal\n",
        "if m > 0:\n",
        "  y_C_M = y_al - (y_al * 0.2)\n",
        "  x_M = np.array([(b + 2 * y_al * m) - (y_C_M * m), (b + 2 * y_al * m)-((y_C_M * m)*0.7), (b + 2 * y_al * m)-((y_C_M * m)*0.7)])\n",
        "  y_M_A = ((((b + 2 * y_al * m)-((y_C_M * m)*0.7))-((b + 2 * y_al * m) - (y_C_M * m)))/m)-y_C_M\n",
        "  y_M = np.array([-y_C_M , -y_C_M , y_M_A])\n",
        "  plt.plot(x_M, y_M, color='m', linestyle=':')\n",
        "  x_M_L = (((b + 2 * y_al * m)-((y_C_M * m)*0.7))+((b + 2 * y_al * m) - (y_C_M * m)))/2\n",
        "  plt.text(x_M_L , -y_C_M,  f' m = {m:.2f}' , ha='left', va='top' , c='m')\n",
        "\n",
        "# Textos\n",
        "plt.text( (y_al * m) + (b/2), -y_A_D,  f'T =  {T:.2f} m' , ha='center', va='bottom' , c='b')\n",
        "plt.text((y_al * m) + (b/10), -((y_al+y_A_D)/2) ,  f' y = {y:.2f} m' , ha='left', va='bottom', c='darkorange', )\n",
        "plt.text((y_al * m) + (b/2), -((y_al+y_A_D)/2.5) ,  f' Q = {Q:.2f} m³/s' , ha='center', va='bottom', c='k')\n",
        "plt.text( (y_al * m) + (b/2), -y_al,  f' b = {b:.2f} m' , ha='center', va='bottom', c='g')\n",
        "\n",
        "plt.axis('off')\n",
        "\n",
        "plt.show()\n"
      ],
      "metadata": {
        "colab": {
          "base_uri": "https://localhost:8080/",
          "height": 248
        },
        "id": "dChmYDDSXQqN",
        "outputId": "b773e696-0d74-4f49-a2fa-36f4244e709d"
      },
      "execution_count": null,
      "outputs": [
        {
          "output_type": "display_data",
          "data": {
            "text/plain": [
              "<Figure size 432x288 with 1 Axes>"
            ],
            "image/png": "[encoded data removed]"
          },
          "metadata": {
            "needs_background": "light"
          }
        }
      ]
    },
    {
      "cell_type": "code",
      "source": [
        "#@title\n",
        "from math import sqrt\n",
        "#F = Q / np.sqrt ((g * ((b*y + m*y**2)**3)) / (b + 2*y*m))\n",
        "\n",
        "#Definicion de la ecuación del numero de Froude\n",
        "def ecuacion (y, x):\n",
        "  return sqrt ((g * ((b*y + m*y**2)**3)) / (b + 2*y*m)) - x"
      ],
      "metadata": {
        "id": "Hao-IwVqYLjD",
        "cellView": "form"
      },
      "execution_count": null,
      "outputs": []
    },
    {
      "cell_type": "code",
      "source": [
        "from scipy.optimize import fsolve\n",
        "\n",
        "#Solucion para cuando Froude es igual a 1\n",
        "sol = fsolve(lambda y: ecuacion(y, Q),1)\n",
        "print(\"El valor de y_c es:\", sol[0])"
      ],
      "metadata": {
        "colab": {
          "base_uri": "https://localhost:8080/"
        },
        "id": "7t6FAB5ldkJ0",
        "outputId": "2d4add2b-08c1-4e75-e997-d6f802650427"
      },
      "execution_count": null,
      "outputs": [
        {
          "output_type": "stream",
          "name": "stdout",
          "text": [
            "El valor de y_c es: 0.8468198255736797\n"
          ]
        }
      ]
    },
    {
      "cell_type": "code",
      "source": [
        "#@title\n",
        "\n",
        "#Linea de Energia especifica\n",
        "y_range = np.linspace(0.3, 5, 100)\n",
        "E = y_range + ((Q**2)/(((b*y_range + m*y_range**2)**2)*2*g))\n",
        "plt.plot(E, y_range, c = 'b', linewidth=2, label = 'E')\n",
        "\n",
        "#Punto Y critico\n",
        "y_c = sol[0]\n",
        "E_c = y_c + ((Q**2)/(((b*y_c + m*y_c**2)**2)*2*g))\n",
        "plt.scatter(E_c, y_c, c='r', label=f' y_c = {y_c:.3f} m, E= {E_c:.3f} m')\n",
        "\n",
        "#Linea Y critica\n",
        "E_rango_c = np.array([0, 5])\n",
        "y_rango_c = np.array([y_c, y_c])\n",
        "plt.plot(E_rango_c, y_rango_c, c = 'r', linestyle='-.')\n",
        "\n",
        "#Punto Y dado en el ejercicio\n",
        "E_y_dado = y + ((Q**2)/(((b*y + m*y**2)**2)*2*g))\n",
        "plt.scatter(E_y_dado, y, c='m', label=f' y= {y:.2f} m, E= {E_y_dado:.3f} m')\n",
        "\n",
        "#Para definir el tipo de flujo\n",
        "if y > y_c:\n",
        "  Tipo_Flujo = 'Subcritico'\n",
        "elif y < y_c:\n",
        "  Tipo_Flujo = 'Supercritico'\n",
        "else:\n",
        "  Tipo_Flujo = 'Critico'\n",
        "\n",
        "#tipo de flujo\n",
        "plt.text(E_y_dado*1.2, y, f\"Tipo de flujo: {Tipo_Flujo}\")\n",
        "\n",
        "#Linea a 45° o E=y\n",
        "E_igual_Y = y_range\n",
        "plt.plot(E_igual_Y, y_range, c = 'g', label = 'E=y', linestyle='--')\n",
        "\n",
        "#Formato grafica\n",
        "plt.xlabel('E (m)')\n",
        "plt.ylabel('y (m)')\n",
        "plt.title('Energía vs y')\n",
        "plt.legend()\n",
        "plt.axis([0, 5, 0, 5])\n",
        "plt.show()"
      ],
      "metadata": {
        "colab": {
          "base_uri": "https://localhost:8080/",
          "height": 295
        },
        "cellView": "form",
        "id": "LTlzSKOjOWk6",
        "outputId": "7f923980-4b98-4e63-cdeb-484fb4fdb62c"
      },
      "execution_count": null,
      "outputs": [
        {
          "output_type": "display_data",
          "data": {
            "text/plain": [
              "<Figure size 432x288 with 1 Axes>"
            ],
            "image/png": "[encoded data removed]"
          },
          "metadata": {
            "needs_background": "light"
          }
        }
      ]
    },
    {
      "cell_type": "code",
      "source": [
        "#@title\n",
        "\n",
        "#Linea funcion numero de froude\n",
        "y_range = np.linspace(0.1, 5, 100)\n",
        "FF = Q / np.sqrt ((g * ((b*y_range + m*y_range**2)**3)) / (b + 2*y_range*m))\n",
        "plt.plot(FF, y_range, c = 'b', linewidth=2, label = 'F')\n",
        "\n",
        "#Froude para Y dado en ejercicio\n",
        "F_y_dada = Q / np.sqrt ((g * ((b*y + m*y**2)**3)) / (b + 2*y*m))\n",
        "plt.scatter(F_y_dada, y, c='m', label=f' y = {y:.2f} m, F = {F_y_dada:.3f}')\n",
        "\n",
        "#Tipo de flujo\n",
        "plt.text(F_y_dada, y*1.2, f\"Tipo de flujo: {Tipo_Flujo}\")\n",
        "\n",
        "#Froude para Y critico\n",
        "F_prob= 1\n",
        "y_c = sol[0]\n",
        "plt.scatter(F_prob, y_c, c='r', label=f' y_c = {y_c:.3f} m')\n",
        "\n",
        "#Formato grafica\n",
        "plt.axis([0, 4, 0, 4])\n",
        "plt.xlabel('# F')\n",
        "plt.ylabel('y (m)')\n",
        "plt.title('Y vs Froude')\n",
        "plt.legend()\n",
        "plt.show()"
      ],
      "metadata": {
        "colab": {
          "base_uri": "https://localhost:8080/",
          "height": 295
        },
        "id": "two2TT0qY9do",
        "outputId": "5a7b3077-49a6-4d53-bc0c-6c1758efbef8",
        "cellView": "form"
      },
      "execution_count": null,
      "outputs": [
        {
          "output_type": "display_data",
          "data": {
            "text/plain": [
              "<Figure size 432x288 with 1 Axes>"
            ],
            "image/png": "[encoded data removed]"
          },
          "metadata": {
            "needs_background": "light"
          }
        }
      ]
    }
  ]
}